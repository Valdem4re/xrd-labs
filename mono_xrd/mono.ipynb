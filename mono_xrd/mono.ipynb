{
 "cells": [
  {
   "cell_type": "code",
   "execution_count": 1,
   "metadata": {},
   "outputs": [],
   "source": [
    "import numpy as np\n",
    "import pandas as pd\n",
    "import matplotlib.pyplot as plt"
   ]
  },
  {
   "cell_type": "code",
   "execution_count": 3,
   "metadata": {},
   "outputs": [],
   "source": [
    "'''\n",
    "2d sin (t) = n lam\n",
    "'''\n",
    "\n",
    "lam = 0.71073\n",
    "\n",
    "with open(\"D:/programming/projects/PythonProjects/Labs/x-ray/data/4/4.hkl\",\"r\")as f:\n",
    "    lines = f.readlines()\n",
    "    \n",
    "h=[]\n",
    "k=[]\n",
    "l=[]\n",
    "d = []\n",
    "I = []\n",
    "for line in lines:\n",
    "    h_i, k_i, l_i, I_i = int(line[:4]), int(line[4:8]), int(line[8:12]), float(line[12:20])\n",
    "\n",
    "    h.append (h_i)\n",
    "    k.append(k_i)\n",
    "    l.append(l_i)\n",
    "    I.append(I_i)   \n",
    "    d.append(np.sqrt(np.sqrt(h_i ** 2 + k_i ** 2 + l_i ** 2)))"
   ]
  },
  {
   "cell_type": "code",
   "execution_count": 4,
   "metadata": {},
   "outputs": [],
   "source": [
    "data = pd.DataFrame({\"h\": h, \"k\" : k, \"l\" : l, \"I\" : I})\n",
    "\n",
    "extinctions = {\"hkl\" : [], \"k\" : []}\n",
    "\n",
    "for el in data.items():\n",
    "    hkl = [el[\"h\"], el[\"k\"], el[\"l\"]]\n",
    "    if el[\"I\"] == 0:\n",
    "        if hkl in extinctions[\"hkl\"]:\n",
    "            extinctions"
   ]
  }
 ],
 "metadata": {
  "kernelspec": {
   "display_name": "Python 3",
   "language": "python",
   "name": "python3"
  },
  "language_info": {
   "codemirror_mode": {
    "name": "ipython",
    "version": 3
   },
   "file_extension": ".py",
   "mimetype": "text/x-python",
   "name": "python",
   "nbconvert_exporter": "python",
   "pygments_lexer": "ipython3",
   "version": "3.11.4"
  }
 },
 "nbformat": 4,
 "nbformat_minor": 2
}
